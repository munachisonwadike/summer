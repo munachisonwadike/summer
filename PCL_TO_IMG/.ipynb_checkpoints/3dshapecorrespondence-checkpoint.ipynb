{
 "cells": [
  {
   "cell_type": "code",
   "execution_count": 1,
   "metadata": {},
   "outputs": [],
   "source": [
    "import pywavefront\n",
    "import os\n",
    "import random\n",
    "import cv2\n",
    "import io\n",
    "import matplotlib.pyplot as plt\n",
    "from mpl_toolkits.mplot3d import Axes3D\n",
    "import numpy as np"
   ]
  },
  {
   "cell_type": "code",
   "execution_count": 2,
   "metadata": {},
   "outputs": [],
   "source": [
    "category = {\n",
    "    \"Airplane\": \"02691156\",\n",
    "    \"Bag\": \"02773838\",\n",
    "    \"Cap\": \"02954340\",\n",
    "    \"Car\": \"02958343\",\n",
    "    \"Chair\": \"03001627\",\n",
    "    \"Earphone\": \"03261776\",\n",
    "    \"Guitar\": \"03467517\",\n",
    "    \"Knife\": \"03624134\",\n",
    "    \"Lamp\": \"03636649\",\n",
    "    \"Laptop\": \"03642806\",\n",
    "    \"Motorbike\": \"03790512\",\n",
    "    \"Mug\": \"03797390\",\n",
    "    \"Pistol\": \"03948459\",\n",
    "    \"Rocket\": \"04099429\",\n",
    "    \"Skateboard\": \"04225987\",\n",
    "    \"Table\": \"04379243\"\n",
    "}"
   ]
  },
  {
   "cell_type": "code",
   "execution_count": 3,
   "metadata": {},
   "outputs": [],
   "source": [
    "#Gets the model given it's category and path. If model ID not specified, gets a random one.\n",
    "def getModelPath(cat, model_id=None):\n",
    "    if model_id == None:\n",
    "        model_id = getRandomModelCategory(cat)\n",
    "    #Accept both category and ID.\n",
    "    try:\n",
    "        cat_id = category[cat]\n",
    "    except:\n",
    "        cat_id = cat\n",
    "    return(os.path.join(os.getcwd(), \"ShapeNetCore/ShapeNetCore.v2\", cat_id , model_id))"
   ]
  },
  {
   "cell_type": "code",
   "execution_count": 4,
   "metadata": {},
   "outputs": [],
   "source": [
    "#Gets a random model ID in this category\n",
    "def getRandomModelCategory(cat):\n",
    "    cat_id = category[cat]\n",
    "    dirs = [x for x in os.listdir(os.path.join(os.getcwd(), \"ShapeNetCore/ShapeNetCore.v2\", cat_id))]\n",
    "    return(random.choice(dirs))"
   ]
  },
  {
   "cell_type": "code",
   "execution_count": 5,
   "metadata": {},
   "outputs": [
    {
     "data": {
      "text/plain": [
       "'/home/mmvc/mmvc-ny-local/mmvc-ny-local-002/Bokang_Jia/ShapeNet/ShapeNetCore/ShapeNetCore.v2/03001627/d645bf9037e7dabda341228b21d337a9'"
      ]
     },
     "execution_count": 5,
     "metadata": {},
     "output_type": "execute_result"
    }
   ],
   "source": [
    "getModelPath(\"Chair\")"
   ]
  },
  {
   "cell_type": "code",
   "execution_count": 6,
   "metadata": {},
   "outputs": [],
   "source": [
    "obj_path = os.path.join(getModelPath(\"Chair\", \"b021f7d705c4113ac7bed72580dc30f\"), \"models/model_normalized.obj\")\n",
    "obj = pywavefront.Wavefront(obj_path)"
   ]
  },
  {
   "cell_type": "code",
   "execution_count": 7,
   "metadata": {},
   "outputs": [
    {
     "name": "stdout",
     "output_type": "stream",
     "text": [
      "<pywavefront.wavefront.Wavefront object at 0x7f92a82eadd8>\n"
     ]
    }
   ],
   "source": [
    "print(obj)"
   ]
  },
  {
   "cell_type": "code",
   "execution_count": 8,
   "metadata": {},
   "outputs": [],
   "source": [
    "# for name, material in obj.materials.items():\n",
    "#     print(\"Format of vertex: \", material.vertex_format)\n",
    "#     print(\"Number of verticies: \", len(material.vertices))\n",
    "#     print(\"Preview first 10 verticies: \", material.vertices[0:10])\n",
    "#     print(\"Material diffuseness: \", material.diffuse)\n",
    "#     print(\"Material ambientness: \", material.ambient)\n",
    "#     print(\"Material texture: \",material.texture)\n",
    "#     print()"
   ]
  },
  {
   "cell_type": "markdown",
   "metadata": {},
   "source": [
    "# Load model images and camera K/RT data"
   ]
  },
  {
   "cell_type": "code",
   "execution_count": 9,
   "metadata": {},
   "outputs": [],
   "source": [
    "#Some parameters\n",
    "#modelcatnum = \"04460130\"\n",
    "#modelIDnum = \"9024bb81d726d584dfda46c9a34dab22\"\n",
    "modelcatnum = \"03001627\"\n",
    "modelIDnum = \"ff969b22a8de5eac30e06a011e63236a\""
   ]
  },
  {
   "cell_type": "code",
   "execution_count": 10,
   "metadata": {},
   "outputs": [],
   "source": [
    "#Gets the 02th image at imgPath.\n",
    "def showModelImage(path, index):\n",
    "    imgpath = os.path.join(path, \"rendering/\" + str(index) + \".png\")\n",
    "    im = cv2.imread(imgpath)\n",
    "    plt.imshow(im)\n",
    "    plt.show()"
   ]
  },
  {
   "cell_type": "code",
   "execution_count": 11,
   "metadata": {},
   "outputs": [],
   "source": [
    "#Gets the 02th metadata array at imgPath. \n",
    "#Metadata is as follows \"azimuth, elevation, in-plane rotation, distance, the field of view.\"\n",
    "def getModelMeta(path, index):\n",
    "    metaPath = os.path.join(path, \"rendering/rendering_metadata.txt\")\n",
    "    f = open(metaPath)\n",
    "    lines = f.readlines()[int(index)].strip()\n",
    "    meta = [float(x) for x in lines.split(' ')]\n",
    "    return(meta)"
   ]
  },
  {
   "cell_type": "code",
   "execution_count": 12,
   "metadata": {},
   "outputs": [
    {
     "data": {
      "image/png": "[encoded data removed]",
      "text/plain": [
       "<Figure size 432x288 with 1 Axes>"
      ]
     },
     "metadata": {
      "needs_background": "light"
     },
     "output_type": "display_data"
    }
   ],
   "source": [
    "#Show this image\n",
    "model_path = getModelPath(modelcatnum, modelIDnum)\n",
    "showModelImage(model_path, \"02\")"
   ]
  },
  {
   "cell_type": "code",
   "execution_count": 13,
   "metadata": {},
   "outputs": [],
   "source": [
    "#Obtain the metadata. \"azimuth, elevation, in-plane rotation, distance, the field of view.\"\n",
    "meta = getModelMeta(model_path, \"02\")"
   ]
  },
  {
   "cell_type": "code",
   "execution_count": 14,
   "metadata": {},
   "outputs": [],
   "source": [
    "#Fucntion refereced from https://github.com/autonomousvision/occupancy_networks\n",
    "F_MM = 35.  # Focal length\n",
    "SENSOR_SIZE_MM = 32.\n",
    "\n",
    "PIXEL_ASPECT_RATIO = 1.  # pixel_aspect_x / pixel_aspect_y\n",
    "RESOLUTION_PCT = 100\n",
    "SKEW = 0.\n",
    "CAM_MAX_DIST = 1.75\n",
    "\n",
    "IMG_W = 127 + 10  # Rendering image size. Network input size + cropping margin.\n",
    "IMG_H = 127 + 10\n",
    "\n",
    "CAM_ROT = np.matrix(((1.910685676922942e-15, 4.371138828673793e-08, 1.0),\n",
    "                     (1.0, -4.371138828673793e-08, -0.0),\n",
    "                     (4.371138828673793e-08, 1.0, -4.371138828673793e-08)))\n",
    "\n",
    "blender_T = np.array([\n",
    "    [1, 0., 0],\n",
    "    [0, 0, -1],\n",
    "    [0, 1, 0.],\n",
    "])\n",
    "\n",
    "def getBlenderProj(az, el, distance_ratio, img_w=IMG_W, img_h=IMG_H):\n",
    "    \"\"\"Calculate 4x3 3D to 2D projection matrix given viewpoint parameters.\"\"\"\n",
    "\n",
    "    # Calculate intrinsic matrix.\n",
    "    # notice that the scale evaluates to 1\n",
    "    scale = RESOLUTION_PCT / 100\n",
    "    f_u = F_MM * img_w * scale / SENSOR_SIZE_MM\n",
    "    f_v = F_MM * img_h * scale * PIXEL_ASPECT_RATIO / SENSOR_SIZE_MM\n",
    "    u_0 = img_w * scale / 2\n",
    "    v_0 = img_h * scale / 2\n",
    "    K = np.matrix(((f_u, SKEW, u_0), (0, f_v, v_0), (0, 0, 1)))\n",
    "\n",
    "    # Calculate rotation and translation matrices.\n",
    "    # Step 1: World coordinate to object coordinate.\n",
    "    sa = np.sin(np.radians(-az))\n",
    "    ca = np.cos(np.radians(-az))\n",
    "    se = np.sin(np.radians(-el))\n",
    "    ce = np.cos(np.radians(-el))\n",
    "    R_world2obj = np.transpose(np.matrix(((ca * ce, -sa, ca * se),\n",
    "                                          (sa * ce, ca, sa * se),\n",
    "                                          (-se, 0, ce))))\n",
    "\n",
    "    # Step 2: Object coordinate to camera coordinate.\n",
    "    R_obj2cam = np.transpose(np.matrix(CAM_ROT))\n",
    "    R_world2cam = R_obj2cam * R_world2obj\n",
    "    cam_location = np.transpose(np.matrix((distance_ratio * CAM_MAX_DIST,\n",
    "                                           0,\n",
    "                                           0)))\n",
    "    T_world2cam = -1 * R_obj2cam * cam_location\n",
    "\n",
    "    # Step 3: Fix blender camera's y and z axis direction.\n",
    "    R_camfix = np.matrix(((1, 0, 0), (0, -1, 0), (0, 0, -1)))\n",
    "    R_world2cam = R_camfix * R_world2cam\n",
    "    T_world2cam = R_camfix * T_world2cam\n",
    "\n",
    "    RT = np.hstack((R_world2cam, T_world2cam))\n",
    "\n",
    "    return K, RT"
   ]
  },
  {
   "cell_type": "code",
   "execution_count": 15,
   "metadata": {},
   "outputs": [
    {
     "name": "stdout",
     "output_type": "stream",
     "text": [
      "263.928266144 26.1970665065 0.858990236647\n"
     ]
    }
   ],
   "source": [
    "print(meta[0], meta[1], meta[3])"
   ]
  },
  {
   "cell_type": "code",
   "execution_count": 16,
   "metadata": {},
   "outputs": [],
   "source": [
    "K, RT = getBlenderProj(meta[0], meta[1], meta[3])"
   ]
  },
  {
   "cell_type": "code",
   "execution_count": 17,
   "metadata": {},
   "outputs": [
    {
     "data": {
      "text/plain": [
       "matrix([[ -1.42501927e+02,  -7.69684545e+01,  -3.02399955e+01,\n",
       "           1.02971455e+02],\n",
       "        [ -4.95688177e-01,   4.65996561e+00,  -1.64691950e+02,\n",
       "           1.02971464e+02],\n",
       "        [  9.49085640e-02,  -8.92247468e-01,  -4.41459874e-01,\n",
       "           1.50323291e+00]])"
      ]
     },
     "execution_count": 17,
     "metadata": {},
     "output_type": "execute_result"
    }
   ],
   "source": [
    "np.dot(K,RT)"
   ]
  },
  {
   "cell_type": "code",
   "execution_count": 18,
   "metadata": {},
   "outputs": [],
   "source": [
    "#Postprocess the K and RT matricies.\n",
    "RT = np.asarray(RT)\n",
    "K = np.asarray(K)\n",
    "M = RT[:, :3] @ blender_T\n",
    "c = RT[:, 3:]\n",
    "out_dict = {}\n",
    "out_dict['camera_mat_%d' % 0] = K\n",
    "out_dict['world_mat_%d' % 0] = np.concatenate([M, c], axis=1)"
   ]
  },
  {
   "cell_type": "code",
   "execution_count": 19,
   "metadata": {},
   "outputs": [
    {
     "data": {
      "text/plain": [
       "array([[ -9.94390245e-01,   3.92213979e-08,   1.05773534e-01,\n",
       "         -2.87220560e-15],\n",
       "       [ -4.66948058e-02,  -8.97280993e-01,  -4.38983389e-01,\n",
       "          6.57083976e-08],\n",
       "       [  9.49085640e-02,  -4.41459874e-01,   8.92247468e-01,\n",
       "          1.50323291e+00]])"
      ]
     },
     "execution_count": 19,
     "metadata": {},
     "output_type": "execute_result"
    }
   ],
   "source": [
    "out_dict['world_mat_0']"
   ]
  },
  {
   "cell_type": "code",
   "execution_count": 20,
   "metadata": {},
   "outputs": [
    {
     "data": {
      "text/plain": [
       "array([[ 149.84375,    0.     ,   68.5    ],\n",
       "       [   0.     ,  149.84375,   68.5    ],\n",
       "       [   0.     ,    0.     ,    1.     ]])"
      ]
     },
     "execution_count": 20,
     "metadata": {},
     "output_type": "execute_result"
    }
   ],
   "source": [
    "out_dict['camera_mat_0']"
   ]
  },
  {
   "cell_type": "code",
   "execution_count": 21,
   "metadata": {},
   "outputs": [],
   "source": [
    "# out_dict['world_mat_0'] = np.zeros((3,4))\n",
    "# out_dict['world_mat_0'][0,0] = 1\n",
    "# out_dict['world_mat_0'][1,1] = 1\n",
    "# out_dict['world_mat_0'][2,2] = 1"
   ]
  },
  {
   "cell_type": "code",
   "execution_count": 22,
   "metadata": {},
   "outputs": [],
   "source": [
    "# out_dict['world_mat_0']"
   ]
  },
  {
   "cell_type": "markdown",
   "metadata": {},
   "source": [
    "# Load the pointcloud"
   ]
  },
  {
   "cell_type": "code",
   "execution_count": 23,
   "metadata": {},
   "outputs": [],
   "source": [
    "def loadPcd(model_path):\n",
    "    obj_path = os.path.join(model_path, \"models/model_normalized.pcd\")\n",
    "    data = []\n",
    "    f = open(obj_path, 'r')\n",
    "    for line in f:\n",
    "        splitline = line.strip().split(' ')\n",
    "        try:\n",
    "            data.append([float(x) for x in splitline])\n",
    "        except:\n",
    "            pass\n",
    "    data = np.asarray(data)\n",
    "    data.astype(float)\n",
    "    return(data)"
   ]
  },
  {
   "cell_type": "code",
   "execution_count": 24,
   "metadata": {},
   "outputs": [],
   "source": [
    "def loadObjVec(model_path):\n",
    "    #As a placeholder, just use the verticies information for now.\n",
    "    obj_path = os.path.join(model_path, \"models/model_normalized.obj\")\n",
    "    data = []\n",
    "    f = open(obj_path, 'r')\n",
    "    for line in f:\n",
    "        if (line[0] == 'v' and line[1]==' '):\n",
    "            splitline = line[2:].strip().split(' ')\n",
    "            data.append([float(x) for x in splitline])\n",
    "    data = np.asarray(data)\n",
    "    data.astype(float)\n",
    "    return(data)"
   ]
  },
  {
   "cell_type": "code",
   "execution_count": 25,
   "metadata": {},
   "outputs": [],
   "source": [
    "data = loadPcd(model_path)"
   ]
  },
  {
   "cell_type": "code",
   "execution_count": 26,
   "metadata": {},
   "outputs": [
    {
     "data": {
      "image/png": "[encoded data removed]",
      "text/plain": [
       "<Figure size 216x288 with 1 Axes>"
      ]
     },
     "metadata": {
      "needs_background": "light"
     },
     "output_type": "display_data"
    }
   ],
   "source": [
    "#Simple projection of points to 2d.\n",
    "fig = plt.figure()\n",
    "fig.set_size_inches(3,4)\n",
    "ax = fig.add_subplot(111)\n",
    "ax.scatter(data[:,0], data[:,1], s=0.5)\n",
    "plt.show()"
   ]
  },
  {
   "cell_type": "code",
   "execution_count": 27,
   "metadata": {},
   "outputs": [
    {
     "name": "stdout",
     "output_type": "stream",
     "text": [
      "(1, 0, 2.0)\n"
     ]
    },
    {
     "data": {
      "application/vnd.jupyter.widget-view+json": {
       "model_id": "a08c28dbc0544cbc96ef5f347046d988",
       "version_major": 2,
       "version_minor": 0
      },
      "text/plain": [
       "VBox(children=(Figure(camera=PerspectiveCamera(fov=46.0, position=(0.03490481287456702, 0.0, 1.999695390312782…"
      ]
     },
     "metadata": {},
     "output_type": "display_data"
    }
   ],
   "source": [
    "#Interactive 3d plot.\n",
    "import ipyvolume as ipv\n",
    "ipv.figure()\n",
    "ipv.scatter(data[:,0], data[:,1], data[:,2], size=0.5, marker=\"sphere\")\n",
    "print(ipv.view(1,0,2.0))\n",
    "ipv.show()"
   ]
  },
  {
   "cell_type": "code",
   "execution_count": 28,
   "metadata": {},
   "outputs": [
    {
     "name": "stdout",
     "output_type": "stream",
     "text": [
      "(-185, 0.0, 2.0)\n"
     ]
    }
   ],
   "source": [
    "for i in range(-100,-200):\n",
    "    ipv.view(-185)\n",
    "print(ipv.view(-185))"
   ]
  },
  {
   "cell_type": "markdown",
   "metadata": {},
   "source": [
    "# Project the pointcloud based on above orientation"
   ]
  },
  {
   "cell_type": "code",
   "execution_count": 58,
   "metadata": {},
   "outputs": [],
   "source": [
    "#Camera and world matrix projections from http://www.cs.cmu.edu/~16385/s17/Slides/11.1_Camera_matrix.pdf\n",
    "# P = np.dot(out_dict['camera_mat_0'],out_dict['world_mat_0'] )\n",
    "points = np.transpose(data)\n",
    "points = np.vstack((points,np.ones((1,points.shape[1])))) #Add extra one padding for 3x4 matrix.\n",
    "# newpoints = np.dot(out_dict['camera_mat_0'],np.dot(out_dict['world_mat_0'],points))\n",
    "newpoints = np.dot(K,np.dot(RT,points))"
   ]
  },
  {
   "cell_type": "code",
   "execution_count": 59,
   "metadata": {},
   "outputs": [
    {
     "data": {
      "text/plain": [
       "(4, 7290)"
      ]
     },
     "execution_count": 59,
     "metadata": {},
     "output_type": "execute_result"
    }
   ],
   "source": [
    "points.shape"
   ]
  },
  {
   "cell_type": "code",
   "execution_count": 60,
   "metadata": {},
   "outputs": [],
   "source": [
    "#newproj = np.matrix([[149,0,0,0],[0,149,0,0],[0,0,1,0]])\n",
    "# newpoints = np.dot(newproj,points)"
   ]
  },
  {
   "cell_type": "code",
   "execution_count": 61,
   "metadata": {},
   "outputs": [],
   "source": [
    "# Projecting 3d transformed point to 2d. \n",
    "# https://stackoverflow.com/questions/39447624/back-projecting-3d-world-point-to-new-view-image-plane\n",
    "converted = newpoints[:2]/newpoints[-1]"
   ]
  },
  {
   "cell_type": "code",
   "execution_count": 62,
   "metadata": {},
   "outputs": [],
   "source": [
    "# np.clip(converted, 0, 137, out=converted)"
   ]
  },
  {
   "cell_type": "code",
   "execution_count": 63,
   "metadata": {},
   "outputs": [
    {
     "data": {
      "image/png": "[encoded data removed]",
      "text/plain": [
       "<Figure size 432x288 with 1 Axes>"
      ]
     },
     "metadata": {
      "needs_background": "light"
     },
     "output_type": "display_data"
    }
   ],
   "source": [
    "fig = plt.figure()\n",
    "ax = fig.add_subplot(111)\n",
    "ax.scatter(converted[0,:], converted[1,:], s=1)\n",
    "plt.show()"
   ]
  },
  {
   "cell_type": "code",
   "execution_count": 56,
   "metadata": {
    "scrolled": true
   },
   "outputs": [
    {
     "data": {
      "application/vnd.jupyter.widget-view+json": {
       "model_id": "86b97ac5f84945a6982fab5582816c2f",
       "version_major": 2,
       "version_minor": 0
      },
      "text/plain": [
       "VBox(children=(Figure(camera=PerspectiveCamera(fov=46.0, position=(0.0, 0.0, 2.0), quaternion=(0.0, 0.0, 0.0, …"
      ]
     },
     "metadata": {},
     "output_type": "display_data"
    }
   ],
   "source": [
    "#Interactive 3d plot.\n",
    "import ipyvolume as ipv\n",
    "ipv.figure()\n",
    "ipv.scatter(newpoints[0,:], newpoints[1,:], newpoints[2,:], size=0.5, marker=\"sphere\")\n",
    "ipv.show()"
   ]
  },
  {
   "cell_type": "code",
   "execution_count": 35,
   "metadata": {},
   "outputs": [],
   "source": [
    "# #Reference code from Lingjing for projecting to 2d. Constant camera plane?\n",
    "\n",
    "def project_3d_on_2d(obj=\"ape\",id=0,points=None):\n",
    "    root = \"../linemod/\"+obj\t\n",
    "    #0.read transformation matrix\n",
    "    Transformation = []\n",
    "    with open(root+\"/transform.dat\") as f:\n",
    "        line = f.readline()\n",
    "        for _ in range(12):\n",
    "            line = f.readline().split(\" \")\n",
    "            Transformation.append(float(line[-1]))\n",
    "    Transformation = np.array(Transformation,dtype=np.float64).reshape(3,4)\n",
    "\n",
    "    #1.read points\n",
    "    if points is None:\n",
    "        #read the points in OLDmesh.py\n",
    "        plydata = PlyData.read(root+\"/OLDmesh.ply\")\n",
    "        #1.2save the point cloud data into a n*3 matrix\n",
    "        nx = np.expand_dims(plydata['vertex']['x'],0) \n",
    "        ny = np.expand_dims(plydata['vertex']['y'],0) \n",
    "        nz = np.expand_dims(plydata['vertex']['z'],0)\n",
    "        points = np.vstack((nx,ny,nz)) / 10.0\n",
    "    points = np.dot(Transformation[:,:-1],points)\n",
    "    points = points + Transformation[:,-1:]*100\n",
    "\n",
    "    #2.read R,T matrix\n",
    "    rfile = root+\"/data/rot{0}.rot\".format(id)\n",
    "    tfile = root+\"/data/tra{0}.tra\".format(id)\n",
    "    Rotation = np.zeros((4,3))\n",
    "    Translation = np.ones((4,1))\n",
    "    with open(rfile) as f:\n",
    "        line = f.readline()\n",
    "        for i in range(3):\n",
    "            line = f.readline()\n",
    "            Rotation[i] = np.array(map(float,line.split(\" \")[:-1]),dtype=np.float64)\n",
    "    with open(tfile) as f:\n",
    "        line = f.readline()\n",
    "        for i in range(3):\n",
    "            line = f.readline()\n",
    "            Translation[i] = np.array(map(float,line.split(\" \")[:-1]),dtype=np.float64)\n",
    "\n",
    "    #3.matrix multiplication\n",
    "    RT = np.hstack((Rotation,Translation))\n",
    "    points = np.vstack((points,np.ones((1,points.shape[1]))))\n",
    "    # points = np.dot(Transformation,points)\n",
    "    Plane = np.array([[572.4114, 0., 325.2611,0.],\n",
    "                      [0., 573.57043, 242.04899,0.],\n",
    "                      [0., 0., 1.,0.]])\n",
    "    newpoints = np.dot(Plane,np.dot(RT,points))\n",
    "\n",
    "    return newpoints[:2]/newpoints[-1]"
   ]
  },
  {
   "cell_type": "code",
   "execution_count": null,
   "metadata": {},
   "outputs": [],
   "source": []
  }
 ],
 "metadata": {
  "kernelspec": {
   "display_name": "Python 3",
   "language": "python",
   "name": "python3"
  },
  "language_info": {
   "codemirror_mode": {
    "name": "ipython",
    "version": 3
   },
   "file_extension": ".py",
   "mimetype": "text/x-python",
   "name": "python",
   "nbconvert_exporter": "python",
   "pygments_lexer": "ipython3",
   "version": "3.7.0"
  }
 },
 "nbformat": 4,
 "nbformat_minor": 2
}
